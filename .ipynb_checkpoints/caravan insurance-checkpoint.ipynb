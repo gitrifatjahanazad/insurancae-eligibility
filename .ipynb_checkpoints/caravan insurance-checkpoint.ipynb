{
 "cells": [
  {
   "cell_type": "code",
   "execution_count": 2,
   "metadata": {
    "_cell_guid": "b1076dfc-b9ad-4769-8c92-a6c4dae69d19",
    "_uuid": "8f2839f25d086af736a60e9eeb907d3b93b6e0e5"
   },
   "outputs": [
    {
     "name": "stdout",
     "output_type": "stream",
     "text": [
      "['caravan insurance']\n"
     ]
    }
   ],
   "source": [
    "# This Python 3 environment comes with many helpful analytics libraries installed\n",
    "# It is defined by the kaggle/python docker image: https://github.com/kaggle/docker-python\n",
    "# For example, here's several helpful packages to load in \n",
    "\n",
    "import numpy as np # linear algebra\n",
    "import pandas as pd # data processing, CSV file I/O (e.g. pd.read_csv)\n",
    "\n",
    "# Input data files are available in the \"../input/\" directory.\n",
    "# For example, running this (by clicking run or pressing Shift+Enter) will list the files in the input directory\n",
    "\n",
    "import os\n",
    "print(os.listdir('input'))\n",
    "### default given helpful info ###\n",
    "# Any results you write to the current directory are saved as output."
   ]
  },
  {
   "cell_type": "markdown",
   "metadata": {
    "_uuid": "4edcb0de06e6ee544fb2f2a79e6f74cc32aa4d47"
   },
   "source": [
    "# Other Necessary Imports"
   ]
  },
  {
   "cell_type": "code",
   "execution_count": 3,
   "metadata": {
    "_uuid": "ef40c8550c56e760172ca21add9f91c7ee9b68ed"
   },
   "outputs": [],
   "source": [
    "from matplotlib import pyplot as plt\n",
    "import seaborn as sns\n",
    "from sklearn.linear_model import LogisticRegression\n",
    "from sklearn.metrics import classification_report\n",
    "from sklearn.metrics import confusion_matrix\n",
    "%matplotlib inline"
   ]
  },
  {
   "cell_type": "markdown",
   "metadata": {
    "_uuid": "55dd1691707903ffc549ac310a048d857ab55d30"
   },
   "source": [
    "# Loading Data"
   ]
  },
  {
   "cell_type": "code",
   "execution_count": 4,
   "metadata": {
    "_uuid": "4b49f923b7e0f0b4a41ae85f057681d7e488b838"
   },
   "outputs": [],
   "source": [
    "baseDirectory = 'input/caravan insurance/'\n",
    "trainFile = baseDirectory + 'ticdata2000.txt'\n",
    "testFile = baseDirectory + 'ticeval2000.txt'\n",
    "evaluationFile = baseDirectory + 'tictgts2000.txt'\n",
    "\n",
    "headers = ['Customer Subtype','Number of houses','Avg size household','Avg age','Customer main type','Roman catholic','Protestant','Other religion','No religion','Married','Living together','Other relation','Singles','Household without children','Household with children','High level education','Medium level education','Lower level education','High status','Entrepreneur','Farmer','Middle management','Skilled labourers','Unskilled labourers','Social class A','Social class B1','Social class B2','Social class C','Social class D','Rented house','Home owners','1 car','2 cars','No car','National Health Service','Private health insurance','Income < 30','Income 30-45','Income 45-75','Income 75-122.000','Income >123.000','Average income','Purchasing power class','Contribution private third party insurance','Contribution third party insurance (firms)','Contribution third party insurane (agriculture)','Contribution car policies','Contribution delivery van policies','Contribution motorcycle/scooter policies','Contribution lorry policies','Contribution trailer policies','Contribution tractor policies','Contribution agricultural machines policies ','Contribution moped policies','Contribution life insurances','Contribution private accident insurance policies','Contribution family accidents insurance policies','Contribution disability insurance policies','Contribution fire policies','Contribution surfboard policies','Contribution boat policies','Contribution bicycle policies','Contribution property insurance policies','Contribution social security insurance policies','Number of private third party insurance 1 - 12','Number of third party insurance (firms)','Number of third party insurane (agriculture)','Number of car policies','Number of delivery van policies','Number of motorcycle/scooter policies','Number of lorry policies','Number of trailer policies','Number of tractor policies','Number of agricultural machines policies','Number of moped policies','Number of life insurances','Number of private accident insurance policies','Number of family accidents insurance policies','Number of disability insurance policies','Number of fire policies','Number of surfboard policies','Number of boat policies','Number of bicycle policies','Number of property insurance policies','Number of social security insurance policies','IsInsured']\n",
    "\n",
    "trainData = pd.read_csv(filepath_or_buffer=trainFile,sep='\\t',header=None, names=headers)\n",
    "#trainData.columns = headers\n",
    "testData = pd.read_csv(filepath_or_buffer=testFile,sep='\\t',header=None)\n",
    "#headers.remove('IsInsured')\n",
    "#testData.columns = headers\n",
    "evaluationData = pd.read_csv(filepath_or_buffer=evaluationFile,sep='\\t',header=None)"
   ]
  },
  {
   "cell_type": "markdown",
   "metadata": {
    "_uuid": "21573bb5d3217497e1ea6352e2391384b921f093"
   },
   "source": [
    "# Data Exploring"
   ]
  },
  {
   "cell_type": "code",
   "execution_count": 5,
   "metadata": {
    "_cell_guid": "79c7e3d0-c299-4dcb-8224-4455121ee9b0",
    "_uuid": "d629ff2d2480ee46fbb7e2d37f6b5fab8052498a",
    "scrolled": true
   },
   "outputs": [
    {
     "name": "stdout",
     "output_type": "stream",
     "text": [
      "Train data head\n",
      "   0   1   2   3   4   5   6   7   8   9   10  11  12  13  14  15  16  17  18  \\\n",
      "0  33   1   3   2   8   0   5   1   3   7   0   2   1   2   6   1   2   7   1   \n",
      "1  37   1   2   2   8   1   4   1   4   6   2   2   0   4   5   0   5   4   0   \n",
      "2  37   1   2   2   8   0   4   2   4   3   2   4   4   4   2   0   5   4   0   \n",
      "3   9   1   3   3   3   2   3   2   4   5   2   2   2   3   4   3   4   2   4   \n",
      "4  40   1   4   2  10   1   4   1   4   7   1   2   2   4   4   5   4   0   0   \n",
      "\n",
      "   19  20  21  22  23  24  25  26  27  28  29  30  31  32  33  34  35  36  37  \\\n",
      "0   0   1   2   5   2   1   1   2   6   1   1   8   8   0   1   8   1   0   4   \n",
      "1   0   0   5   0   4   0   2   3   5   0   2   7   7   1   2   6   3   2   0   \n",
      "2   0   0   7   0   2   0   5   0   4   0   7   2   7   0   2   9   0   4   5   \n",
      "3   0   0   3   1   2   3   2   1   4   0   5   4   9   0   0   7   2   1   5   \n",
      "4   5   4   0   0   0   9   0   0   0   0   4   5   6   2   1   5   4   0   0   \n",
      "\n",
      "   38  39  40  41  42  43  44  45  46  47  48  49  50  51  52  53  54  55  56  \\\n",
      "0   5   0   0   4   3   0   0   0   6   0   0   0   0   0   0   0   0   0   0   \n",
      "1   5   2   0   5   4   2   0   0   0   0   0   0   0   0   0   0   0   0   0   \n",
      "2   0   0   0   3   4   2   0   0   6   0   0   0   0   0   0   0   0   0   0   \n",
      "3   3   0   0   4   4   0   0   0   6   0   0   0   0   0   0   0   0   0   0   \n",
      "4   9   0   0   6   3   0   0   0   0   0   0   0   0   0   0   0   0   0   0   \n",
      "\n",
      "   57  58  59  60  61  62  63  64  65  66  67  68  69  70  71  72  73  74  75  \\\n",
      "0   0   5   0   0   0   0   0   0   0   0   1   0   0   0   0   0   0   0   0   \n",
      "1   0   2   0   0   0   0   0   2   0   0   0   0   0   0   0   0   0   0   0   \n",
      "2   0   2   0   0   0   0   0   1   0   0   1   0   0   0   0   0   0   0   0   \n",
      "3   0   2   0   0   0   0   0   0   0   0   1   0   0   0   0   0   0   0   0   \n",
      "4   0   6   0   0   0   0   0   0   0   0   0   0   0   0   0   0   0   0   0   \n",
      "\n",
      "   76  77  78  79  80  81  82  83  84  85  \n",
      "0   0   0   0   1   0   0   0   0   0   0  \n",
      "1   0   0   0   1   0   0   0   0   0   0  \n",
      "2   0   0   0   1   0   0   0   0   0   0  \n",
      "3   0   0   0   1   0   0   0   0   0   0  \n",
      "4   0   0   0   1   0   0   0   0   0   0  \n",
      "Test data head\n",
      "   0   1   2   3   4   5   6   7   8   9   10  11  12  13  14  15  16  17  18  \\\n",
      "0  33   1   4   2   8   0   6   0   3   5   0   4   1   1   8   2   2   6   0   \n",
      "1   6   1   3   2   2   0   5   0   4   5   2   2   1   4   5   5   4   0   5   \n",
      "2  39   1   3   3   9   1   4   2   3   5   2   3   2   3   6   2   4   4   2   \n",
      "3   9   1   2   3   3   2   3   2   4   5   4   1   2   4   4   2   4   4   2   \n",
      "4  31   1   2   4   7   0   2   0   7   9   0   0   0   6   3   0   0   9   0   \n",
      "\n",
      "   19  20  21  22  23  24  25  26  27  28  29  30  31  32  33  34  35  36  37  \\\n",
      "0   0   1   2   6   1   0   2   1   5   3   1   8   8   1   1   8   1   3   3   \n",
      "1   0   0   4   0   0   4   3   0   2   1   3   6   9   0   0   7   2   1   1   \n",
      "2   1   1   3   2   2   1   1   5   2   1   1   8   6   2   2   6   3   2   4   \n",
      "3   1   1   5   1   2   3   1   3   2   2   3   6   7   2   1   7   2   2   5   \n",
      "4   0   0   2   4   4   0   0   0   7   2   9   0   7   2   0   9   0   5   4   \n",
      "\n",
      "   38  39  40  41  42  43  44  45  46  47  48  49  50  51  52  53  54  55  56  \\\n",
      "0   3   0   0   3   3   1   0   0   0   0   0   0   0   0   0   0   0   0   0   \n",
      "1   5   4   0   6   8   2   0   0   6   0   4   0   0   0   0   0   3   0   0   \n",
      "2   3   1   0   3   5   2   0   0   6   0   0   0   0   0   0   0   4   0   0   \n",
      "3   3   1   0   4   4   2   0   0   5   0   0   0   0   0   0   0   0   0   0   \n",
      "4   0   0   0   3   1   2   0   0   0   0   0   0   0   0   0   0   0   0   0   \n",
      "\n",
      "   57  58  59  60  61  62  63  64  65  66  67  68  69  70  71  72  73  74  75  \\\n",
      "0   0   4   0   0   0   0   0   1   0   0   0   0   0   0   0   0   0   0   0   \n",
      "1   0   4   0   0   0   0   0   1   0   0   1   0   1   0   0   0   0   0   2   \n",
      "2   0   4   0   0   0   0   0   1   0   0   1   0   0   0   0   0   0   0   1   \n",
      "3   0   3   0   0   0   0   0   1   0   0   1   0   0   0   0   0   0   0   0   \n",
      "4   0   1   0   0   0   0   0   1   0   0   0   0   0   0   0   0   0   0   0   \n",
      "\n",
      "   76  77  78  79  80  81  82  83  84  \n",
      "0   0   0   0   1   0   0   0   0   0  \n",
      "1   0   0   0   1   0   0   0   0   0  \n",
      "2   0   0   0   1   0   0   0   0   0  \n",
      "3   0   0   0   1   0   0   0   0   0  \n",
      "4   0   0   0   1   0   0   0   0   0  \n",
      "   0\n",
      "0  0\n",
      "1  1\n",
      "2  0\n",
      "3  0\n",
      "4  0\n"
     ]
    }
   ],
   "source": [
    "# to display ass rows\n",
    "pd.options.display.max_rows = 999\n",
    "pd.options.display.max_columns = 999\n",
    "print('Train data head')\n",
    "print(trainData.head())\n",
    "print('Test data head')\n",
    "print(testData.head())\n",
    "print(evaluationData.head())"
   ]
  },
  {
   "cell_type": "markdown",
   "metadata": {
    "_uuid": "1b23dbd89422d41400595c2d7fb3b1c4e8083f25"
   },
   "source": [
    "## Train Data"
   ]
  },
  {
   "cell_type": "code",
   "execution_count": 26,
   "metadata": {
    "_uuid": "1be4f4b35f3b9d820a31a032c67aef461f895155"
   },
   "outputs": [
    {
     "name": "stdout",
     "output_type": "stream",
     "text": [
      "<class 'pandas.core.frame.DataFrame'>\n",
      "RangeIndex: 5822 entries, 0 to 5821\n",
      "Data columns (total 86 columns):\n",
      "0     5822 non-null int64\n",
      "1     5822 non-null int64\n",
      "2     5822 non-null int64\n",
      "3     5822 non-null int64\n",
      "4     5822 non-null int64\n",
      "5     5822 non-null int64\n",
      "6     5822 non-null int64\n",
      "7     5822 non-null int64\n",
      "8     5822 non-null int64\n",
      "9     5822 non-null int64\n",
      "10    5822 non-null int64\n",
      "11    5822 non-null int64\n",
      "12    5822 non-null int64\n",
      "13    5822 non-null int64\n",
      "14    5822 non-null int64\n",
      "15    5822 non-null int64\n",
      "16    5822 non-null int64\n",
      "17    5822 non-null int64\n",
      "18    5822 non-null int64\n",
      "19    5822 non-null int64\n",
      "20    5822 non-null int64\n",
      "21    5822 non-null int64\n",
      "22    5822 non-null int64\n",
      "23    5822 non-null int64\n",
      "24    5822 non-null int64\n",
      "25    5822 non-null int64\n",
      "26    5822 non-null int64\n",
      "27    5822 non-null int64\n",
      "28    5822 non-null int64\n",
      "29    5822 non-null int64\n",
      "30    5822 non-null int64\n",
      "31    5822 non-null int64\n",
      "32    5822 non-null int64\n",
      "33    5822 non-null int64\n",
      "34    5822 non-null int64\n",
      "35    5822 non-null int64\n",
      "36    5822 non-null int64\n",
      "37    5822 non-null int64\n",
      "38    5822 non-null int64\n",
      "39    5822 non-null int64\n",
      "40    5822 non-null int64\n",
      "41    5822 non-null int64\n",
      "42    5822 non-null int64\n",
      "43    5822 non-null int64\n",
      "44    5822 non-null int64\n",
      "45    5822 non-null int64\n",
      "46    5822 non-null int64\n",
      "47    5822 non-null int64\n",
      "48    5822 non-null int64\n",
      "49    5822 non-null int64\n",
      "50    5822 non-null int64\n",
      "51    5822 non-null int64\n",
      "52    5822 non-null int64\n",
      "53    5822 non-null int64\n",
      "54    5822 non-null int64\n",
      "55    5822 non-null int64\n",
      "56    5822 non-null int64\n",
      "57    5822 non-null int64\n",
      "58    5822 non-null int64\n",
      "59    5822 non-null int64\n",
      "60    5822 non-null int64\n",
      "61    5822 non-null int64\n",
      "62    5822 non-null int64\n",
      "63    5822 non-null int64\n",
      "64    5822 non-null int64\n",
      "65    5822 non-null int64\n",
      "66    5822 non-null int64\n",
      "67    5822 non-null int64\n",
      "68    5822 non-null int64\n",
      "69    5822 non-null int64\n",
      "70    5822 non-null int64\n",
      "71    5822 non-null int64\n",
      "72    5822 non-null int64\n",
      "73    5822 non-null int64\n",
      "74    5822 non-null int64\n",
      "75    5822 non-null int64\n",
      "76    5822 non-null int64\n",
      "77    5822 non-null int64\n",
      "78    5822 non-null int64\n",
      "79    5822 non-null int64\n",
      "80    5822 non-null int64\n",
      "81    5822 non-null int64\n",
      "82    5822 non-null int64\n",
      "83    5822 non-null int64\n",
      "84    5822 non-null int64\n",
      "85    5822 non-null int64\n",
      "dtypes: int64(86)\n",
      "memory usage: 3.8 MB\n",
      "None\n",
      "                0            1            2            3            4   \\\n",
      "count  5822.000000  5822.000000  5822.000000  5822.000000  5822.000000   \n",
      "mean     24.253349     1.110615     2.678805     2.991240     5.773617   \n",
      "std      12.846706     0.405842     0.789835     0.814589     2.856760   \n",
      "min       1.000000     1.000000     1.000000     1.000000     1.000000   \n",
      "25%      10.000000     1.000000     2.000000     2.000000     3.000000   \n",
      "50%      30.000000     1.000000     3.000000     3.000000     7.000000   \n",
      "75%      35.000000     1.000000     3.000000     3.000000     8.000000   \n",
      "max      41.000000    10.000000     5.000000     6.000000    10.000000   \n",
      "\n",
      "                5            6            7            8            9   \\\n",
      "count  5822.000000  5822.000000  5822.000000  5822.000000  5822.000000   \n",
      "mean      0.696496     4.626932     1.069907     3.258502     6.183442   \n",
      "std       1.003234     1.715843     1.017503     1.597647     1.909482   \n",
      "min       0.000000     0.000000     0.000000     0.000000     0.000000   \n",
      "25%       0.000000     4.000000     0.000000     2.000000     5.000000   \n",
      "50%       0.000000     5.000000     1.000000     3.000000     6.000000   \n",
      "75%       1.000000     6.000000     2.000000     4.000000     7.000000   \n",
      "max       9.000000     9.000000     5.000000     9.000000     9.000000   \n",
      "\n",
      "                10           11           12           13           14  \\\n",
      "count  5822.000000  5822.000000  5822.000000  5822.000000  5822.000000   \n",
      "mean      0.883545     2.290450     1.887667     3.230333     4.300240   \n",
      "std       0.965924     1.722645     1.799928     1.619973     2.005283   \n",
      "min       0.000000     0.000000     0.000000     0.000000     0.000000   \n",
      "25%       0.000000     1.000000     0.000000     2.000000     3.000000   \n",
      "50%       1.000000     2.000000     2.000000     3.000000     4.000000   \n",
      "75%       1.000000     3.000000     3.000000     4.000000     6.000000   \n",
      "max       7.000000     9.000000     9.000000     9.000000     9.000000   \n",
      "\n",
      "                15           16           17           18           19  \\\n",
      "count  5822.000000  5822.000000  5822.000000  5822.000000  5822.000000   \n",
      "mean      1.461010     3.351254     4.572484     1.895053     0.397973   \n",
      "std       1.622967     1.761052     2.298125     1.798321     0.775073   \n",
      "min       0.000000     0.000000     0.000000     0.000000     0.000000   \n",
      "25%       0.000000     2.000000     3.000000     0.000000     0.000000   \n",
      "50%       1.000000     3.000000     5.000000     2.000000     0.000000   \n",
      "75%       2.000000     4.000000     6.000000     3.000000     1.000000   \n",
      "max       9.000000     9.000000     9.000000     9.000000     5.000000   \n",
      "\n",
      "                20           21           22           23           24  \\\n",
      "count  5822.000000  5822.000000  5822.000000  5822.000000  5822.000000   \n",
      "mean      0.522329     2.899004     2.219856     2.306424     1.620749   \n",
      "std       1.056926     1.839675     1.730840     1.692843     1.722882   \n",
      "min       0.000000     0.000000     0.000000     0.000000     0.000000   \n",
      "25%       0.000000     2.000000     1.000000     1.000000     0.000000   \n",
      "50%       0.000000     3.000000     2.000000     2.000000     1.000000   \n",
      "75%       1.000000     4.000000     3.000000     3.000000     2.000000   \n",
      "max       9.000000     9.000000     9.000000     9.000000     9.000000   \n",
      "\n",
      "                25           26           27           28           29  \\\n",
      "count  5822.000000  5822.000000  5822.000000  5822.000000  5822.000000   \n",
      "mean      1.606836     2.202508     3.758674     1.067331     4.236860   \n",
      "std       1.330664     1.529319     1.935568     1.303175     3.089302   \n",
      "min       0.000000     0.000000     0.000000     0.000000     0.000000   \n",
      "25%       1.000000     1.000000     2.000000     0.000000     2.000000   \n",
      "50%       2.000000     2.000000     4.000000     1.000000     4.000000   \n",
      "75%       2.000000     3.000000     5.000000     2.000000     7.000000   \n",
      "max       9.000000     9.000000     9.000000     9.000000     9.000000   \n",
      "\n",
      "                30           31           32           33           34  \\\n",
      "count  5822.000000  5822.000000  5822.000000  5822.000000  5822.000000   \n",
      "mean      4.771728     6.040364     1.316386     1.959464     6.277053   \n",
      "std       3.089837     1.552799     1.203072     1.599714     1.978675   \n",
      "min       0.000000     0.000000     0.000000     0.000000     0.000000   \n",
      "25%       2.000000     5.000000     0.000000     1.000000     5.000000   \n",
      "50%       5.000000     6.000000     1.000000     2.000000     7.000000   \n",
      "75%       7.000000     7.000000     2.000000     3.000000     8.000000   \n",
      "max       9.000000     9.000000     7.000000     9.000000     9.000000   \n",
      "\n",
      "                35           36           37           38           39  \\\n",
      "count  5822.000000  5822.000000  5822.000000  5822.000000  5822.000000   \n",
      "mean      2.728959     2.573686     3.536070     2.731364     0.796118   \n",
      "std       1.981893     2.086099     1.882656     1.927738     1.162829   \n",
      "min       0.000000     0.000000     0.000000     0.000000     0.000000   \n",
      "25%       1.000000     1.000000     2.000000     1.000000     0.000000   \n",
      "50%       2.000000     2.000000     4.000000     3.000000     0.000000   \n",
      "75%       4.000000     4.000000     5.000000     4.000000     1.000000   \n",
      "max       9.000000     9.000000     9.000000     9.000000     9.000000   \n",
      "\n",
      "                40           41           42           43           44  \\\n",
      "count  5822.000000  5822.000000  5822.000000  5822.000000  5822.000000   \n",
      "mean      0.202679     3.784438     4.236345     0.771213     0.040021   \n",
      "std       0.551557     1.317783     2.007150     0.958623     0.362680   \n",
      "min       0.000000     0.000000     1.000000     0.000000     0.000000   \n",
      "25%       0.000000     3.000000     3.000000     0.000000     0.000000   \n",
      "50%       0.000000     4.000000     4.000000     0.000000     0.000000   \n",
      "75%       0.000000     4.000000     6.000000     2.000000     0.000000   \n",
      "max       9.000000     9.000000     8.000000     3.000000     6.000000   \n",
      "\n",
      "                45           46           47           48           49  \\\n",
      "count  5822.000000  5822.000000  5822.000000  5822.000000  5822.000000   \n",
      "mean      0.071625     2.970457     0.048265     0.175369     0.009447   \n",
      "std       0.499980     2.920669     0.531346     0.897222     0.244675   \n",
      "min       0.000000     0.000000     0.000000     0.000000     0.000000   \n",
      "25%       0.000000     0.000000     0.000000     0.000000     0.000000   \n",
      "50%       0.000000     5.000000     0.000000     0.000000     0.000000   \n",
      "75%       0.000000     6.000000     0.000000     0.000000     0.000000   \n",
      "max       4.000000     8.000000     7.000000     7.000000     9.000000   \n",
      "\n",
      "                50           51           52           53           54  \\\n",
      "count  5822.000000  5822.000000  5822.000000  5822.000000  5822.000000   \n",
      "mean      0.020955     0.092580     0.013054     0.215046     0.194778   \n",
      "std       0.212738     0.603076     0.228906     0.813133     0.898100   \n",
      "min       0.000000     0.000000     0.000000     0.000000     0.000000   \n",
      "25%       0.000000     0.000000     0.000000     0.000000     0.000000   \n",
      "50%       0.000000     0.000000     0.000000     0.000000     0.000000   \n",
      "75%       0.000000     0.000000     0.000000     0.000000     0.000000   \n",
      "max       5.000000     6.000000     6.000000     6.000000     9.000000   \n",
      "\n",
      "                55           56           57           58           59  \\\n",
      "count  5822.000000  5822.000000  5822.000000  5822.000000  5822.000000   \n",
      "mean      0.013741     0.015287     0.023531     1.827722     0.000859   \n",
      "std       0.209260     0.192471     0.375274     1.879290     0.043462   \n",
      "min       0.000000     0.000000     0.000000     0.000000     0.000000   \n",
      "25%       0.000000     0.000000     0.000000     0.000000     0.000000   \n",
      "50%       0.000000     0.000000     0.000000     2.000000     0.000000   \n",
      "75%       0.000000     0.000000     0.000000     4.000000     0.000000   \n",
      "max       6.000000     3.000000     7.000000     8.000000     3.000000   \n",
      "\n",
      "                60           61          62           63           64  \\\n",
      "count  5822.000000  5822.000000  5822.00000  5822.000000  5822.000000   \n",
      "mean      0.018894     0.025249     0.01563     0.047578     0.402954   \n",
      "std       0.273028     0.156894     0.20456     0.409016     0.492631   \n",
      "min       0.000000     0.000000     0.00000     0.000000     0.000000   \n",
      "25%       0.000000     0.000000     0.00000     0.000000     0.000000   \n",
      "50%       0.000000     0.000000     0.00000     0.000000     0.000000   \n",
      "75%       0.000000     0.000000     0.00000     0.000000     1.000000   \n",
      "max       6.000000     1.000000     6.00000     5.000000     2.000000   \n",
      "\n",
      "                65           66           67           68           69  \\\n",
      "count  5822.000000  5822.000000  5822.000000  5822.000000  5822.000000   \n",
      "mean      0.014772     0.020611     0.562178     0.010477     0.041051   \n",
      "std       0.134133     0.142092     0.604767     0.129991     0.228974   \n",
      "min       0.000000     0.000000     0.000000     0.000000     0.000000   \n",
      "25%       0.000000     0.000000     0.000000     0.000000     0.000000   \n",
      "50%       0.000000     0.000000     1.000000     0.000000     0.000000   \n",
      "75%       0.000000     0.000000     1.000000     0.000000     0.000000   \n",
      "max       5.000000     1.000000     7.000000     4.000000     8.000000   \n",
      "\n",
      "                70           71           72           73           74  \\\n",
      "count  5822.000000  5822.000000  5822.000000  5822.000000  5822.000000   \n",
      "mean      0.002233     0.012539     0.033665     0.006183     0.070423   \n",
      "std       0.062819     0.125775     0.240755     0.124189     0.265112   \n",
      "min       0.000000     0.000000     0.000000     0.000000     0.000000   \n",
      "25%       0.000000     0.000000     0.000000     0.000000     0.000000   \n",
      "50%       0.000000     0.000000     0.000000     0.000000     0.000000   \n",
      "75%       0.000000     0.000000     0.000000     0.000000     0.000000   \n",
      "max       3.000000     3.000000     4.000000     6.000000     2.000000   \n",
      "\n",
      "                75           76           77           78           79  \\\n",
      "count  5822.000000  5822.000000  5822.000000  5822.000000  5822.000000   \n",
      "mean      0.076606     0.005325     0.006527     0.004638     0.570079   \n",
      "std       0.377569     0.072782     0.080532     0.077403     0.562058   \n",
      "min       0.000000     0.000000     0.000000     0.000000     0.000000   \n",
      "25%       0.000000     0.000000     0.000000     0.000000     0.000000   \n",
      "50%       0.000000     0.000000     0.000000     0.000000     1.000000   \n",
      "75%       0.000000     0.000000     0.000000     0.000000     1.000000   \n",
      "max       8.000000     1.000000     1.000000     2.000000     7.000000   \n",
      "\n",
      "                80           81           82           83           84  \\\n",
      "count  5822.000000  5822.000000  5822.000000  5822.000000  5822.000000   \n",
      "mean      0.000515     0.006012     0.031776     0.007901     0.014256   \n",
      "std       0.022696     0.081632     0.210986     0.090463     0.119996   \n",
      "min       0.000000     0.000000     0.000000     0.000000     0.000000   \n",
      "25%       0.000000     0.000000     0.000000     0.000000     0.000000   \n",
      "50%       0.000000     0.000000     0.000000     0.000000     0.000000   \n",
      "75%       0.000000     0.000000     0.000000     0.000000     0.000000   \n",
      "max       1.000000     2.000000     3.000000     2.000000     2.000000   \n",
      "\n",
      "                85  \n",
      "count  5822.000000  \n",
      "mean      0.059773  \n",
      "std       0.237087  \n",
      "min       0.000000  \n",
      "25%       0.000000  \n",
      "50%       0.000000  \n",
      "75%       0.000000  \n",
      "max       1.000000  \n"
     ]
    }
   ],
   "source": [
    "print(trainData.info())\n",
    "print(trainData.describe())"
   ]
  },
  {
   "cell_type": "markdown",
   "metadata": {
    "_uuid": "edb65e95acb8b1823e9432f9c8117bd9708ec4b9"
   },
   "source": [
    "## Test Data"
   ]
  },
  {
   "cell_type": "code",
   "execution_count": 27,
   "metadata": {
    "_uuid": "7ace8ceae9aa8415a093e3a29114f3f501e0d960"
   },
   "outputs": [
    {
     "name": "stdout",
     "output_type": "stream",
     "text": [
      "<class 'pandas.core.frame.DataFrame'>\n",
      "RangeIndex: 4000 entries, 0 to 3999\n",
      "Data columns (total 85 columns):\n",
      "0     4000 non-null int64\n",
      "1     4000 non-null int64\n",
      "2     4000 non-null int64\n",
      "3     4000 non-null int64\n",
      "4     4000 non-null int64\n",
      "5     4000 non-null int64\n",
      "6     4000 non-null int64\n",
      "7     4000 non-null int64\n",
      "8     4000 non-null int64\n",
      "9     4000 non-null int64\n",
      "10    4000 non-null int64\n",
      "11    4000 non-null int64\n",
      "12    4000 non-null int64\n",
      "13    4000 non-null int64\n",
      "14    4000 non-null int64\n",
      "15    4000 non-null int64\n",
      "16    4000 non-null int64\n",
      "17    4000 non-null int64\n",
      "18    4000 non-null int64\n",
      "19    4000 non-null int64\n",
      "20    4000 non-null int64\n",
      "21    4000 non-null int64\n",
      "22    4000 non-null int64\n",
      "23    4000 non-null int64\n",
      "24    4000 non-null int64\n",
      "25    4000 non-null int64\n",
      "26    4000 non-null int64\n",
      "27    4000 non-null int64\n",
      "28    4000 non-null int64\n",
      "29    4000 non-null int64\n",
      "30    4000 non-null int64\n",
      "31    4000 non-null int64\n",
      "32    4000 non-null int64\n",
      "33    4000 non-null int64\n",
      "34    4000 non-null int64\n",
      "35    4000 non-null int64\n",
      "36    4000 non-null int64\n",
      "37    4000 non-null int64\n",
      "38    4000 non-null int64\n",
      "39    4000 non-null int64\n",
      "40    4000 non-null int64\n",
      "41    4000 non-null int64\n",
      "42    4000 non-null int64\n",
      "43    4000 non-null int64\n",
      "44    4000 non-null int64\n",
      "45    4000 non-null int64\n",
      "46    4000 non-null int64\n",
      "47    4000 non-null int64\n",
      "48    4000 non-null int64\n",
      "49    4000 non-null int64\n",
      "50    4000 non-null int64\n",
      "51    4000 non-null int64\n",
      "52    4000 non-null int64\n",
      "53    4000 non-null int64\n",
      "54    4000 non-null int64\n",
      "55    4000 non-null int64\n",
      "56    4000 non-null int64\n",
      "57    4000 non-null int64\n",
      "58    4000 non-null int64\n",
      "59    4000 non-null int64\n",
      "60    4000 non-null int64\n",
      "61    4000 non-null int64\n",
      "62    4000 non-null int64\n",
      "63    4000 non-null int64\n",
      "64    4000 non-null int64\n",
      "65    4000 non-null int64\n",
      "66    4000 non-null int64\n",
      "67    4000 non-null int64\n",
      "68    4000 non-null int64\n",
      "69    4000 non-null int64\n",
      "70    4000 non-null int64\n",
      "71    4000 non-null int64\n",
      "72    4000 non-null int64\n",
      "73    4000 non-null int64\n",
      "74    4000 non-null int64\n",
      "75    4000 non-null int64\n",
      "76    4000 non-null int64\n",
      "77    4000 non-null int64\n",
      "78    4000 non-null int64\n",
      "79    4000 non-null int64\n",
      "80    4000 non-null int64\n",
      "81    4000 non-null int64\n",
      "82    4000 non-null int64\n",
      "83    4000 non-null int64\n",
      "84    4000 non-null int64\n",
      "dtypes: int64(85)\n",
      "memory usage: 2.6 MB\n",
      "None\n",
      "                0           1            2            3            4   \\\n",
      "count  4000.000000  4000.00000  4000.000000  4000.000000  4000.000000   \n",
      "mean     24.253000     1.10600     2.675750     3.004000     5.787000   \n",
      "std      13.022822     0.42108     0.767306     0.790025     2.899609   \n",
      "min       1.000000     1.00000     1.000000     1.000000     1.000000   \n",
      "25%      10.000000     1.00000     2.000000     3.000000     3.000000   \n",
      "50%      30.000000     1.00000     3.000000     3.000000     7.000000   \n",
      "75%      35.000000     1.00000     3.000000     3.000000     8.000000   \n",
      "max      41.000000    10.00000     6.000000     6.000000    10.000000   \n",
      "\n",
      "                5            6            7            8            9   \\\n",
      "count  4000.000000  4000.000000  4000.000000  4000.000000  4000.000000   \n",
      "mean      0.706750     4.653250     1.021250     3.269500     6.197000   \n",
      "std       1.032241     1.729093     1.001274     1.618958     1.876585   \n",
      "min       0.000000     0.000000     0.000000     0.000000     0.000000   \n",
      "25%       0.000000     4.000000     0.000000     2.000000     5.000000   \n",
      "50%       0.000000     5.000000     1.000000     3.000000     6.000000   \n",
      "75%       1.000000     6.000000     2.000000     4.000000     7.000000   \n",
      "max       9.000000     9.000000     5.000000     9.000000     9.000000   \n",
      "\n",
      "                10           11           12           13          14  \\\n",
      "count  4000.000000  4000.000000  4000.000000  4000.000000  4000.00000   \n",
      "mean      0.858000     2.281000     1.886750     3.247500     4.30675   \n",
      "std       0.956067     1.693297     1.748911     1.593386     1.95323   \n",
      "min       0.000000     0.000000     0.000000     0.000000     0.00000   \n",
      "25%       0.000000     1.000000     0.000000     2.000000     3.00000   \n",
      "50%       1.000000     2.000000     2.000000     3.000000     4.00000   \n",
      "75%       1.000000     3.000000     3.000000     4.000000     6.00000   \n",
      "max       7.000000     9.000000     9.000000     9.000000     9.00000   \n",
      "\n",
      "                15           16           17           18          19  \\\n",
      "count  4000.000000  4000.000000  4000.000000  4000.000000  4000.00000   \n",
      "mean      1.518750     3.243250     4.620500     1.904250     0.41100   \n",
      "std       1.678497     1.665164     2.252942     1.837778     0.80358   \n",
      "min       0.000000     0.000000     0.000000     0.000000     0.00000   \n",
      "25%       0.000000     2.000000     3.000000     0.000000     0.00000   \n",
      "50%       1.000000     3.000000     5.000000     2.000000     0.00000   \n",
      "75%       2.000000     4.000000     6.000000     3.000000     1.00000   \n",
      "max       9.000000     9.000000     9.000000     9.000000     5.00000   \n",
      "\n",
      "                20           21           22           23          24  \\\n",
      "count  4000.000000  4000.000000  4000.000000  4000.000000  4000.00000   \n",
      "mean      0.579750     2.845250     2.236250     2.269000     1.69425   \n",
      "std       1.173876     1.856654     1.772913     1.671029     1.76976   \n",
      "min       0.000000     0.000000     0.000000     0.000000     0.00000   \n",
      "25%       0.000000     2.000000     1.000000     1.000000     0.00000   \n",
      "50%       0.000000     3.000000     2.000000     2.000000     1.00000   \n",
      "75%       1.000000     4.000000     3.000000     3.000000     2.00000   \n",
      "max       9.000000     9.000000     9.000000     9.000000     9.00000   \n",
      "\n",
      "                25           26           27           28           29  \\\n",
      "count  4000.000000  4000.000000  4000.000000  4000.000000  4000.000000   \n",
      "mean      1.578000     2.208000     3.718250     1.069500     4.116250   \n",
      "std       1.307992     1.541373     1.958399     1.291157     3.097682   \n",
      "min       0.000000     0.000000     0.000000     0.000000     0.000000   \n",
      "25%       1.000000     1.000000     2.000000     0.000000     1.000000   \n",
      "50%       2.000000     2.000000     4.000000     1.000000     4.000000   \n",
      "75%       2.000000     3.000000     5.000000     2.000000     7.000000   \n",
      "max       9.000000     9.000000     9.000000     8.000000     9.000000   \n",
      "\n",
      "                30           31           32           33           34  \\\n",
      "count  4000.000000  4000.000000  4000.000000  4000.000000  4000.000000   \n",
      "mean      4.889000     5.996500     1.364500     1.952750     6.221250   \n",
      "std       3.097996     1.530873     1.228421     1.592844     2.031337   \n",
      "min       0.000000     0.000000     0.000000     0.000000     0.000000   \n",
      "25%       2.000000     5.000000     0.000000     0.000000     5.000000   \n",
      "50%       5.000000     6.000000     1.000000     2.000000     7.000000   \n",
      "75%       8.000000     7.000000     2.000000     3.000000     8.000000   \n",
      "max       9.000000     9.000000     9.000000     9.000000     9.000000   \n",
      "\n",
      "                35           36           37           38           39  \\\n",
      "count  4000.000000  4000.000000  4000.000000  4000.000000  4000.000000   \n",
      "mean      2.782250     2.582000     3.461000     2.751250     0.826500   \n",
      "std       2.033069     2.054344     1.854141     1.983647     1.189433   \n",
      "min       0.000000     0.000000     0.000000     0.000000     0.000000   \n",
      "25%       1.000000     1.000000     2.000000     1.000000     0.000000   \n",
      "50%       2.000000     2.000000     3.000000     3.000000     0.000000   \n",
      "75%       4.000000     4.000000     5.000000     4.000000     1.000000   \n",
      "max       9.000000     9.000000     9.000000     9.000000     9.000000   \n",
      "\n",
      "                40           41           42           43           44  \\\n",
      "count  4000.000000  4000.000000  4000.000000  4000.000000  4000.000000   \n",
      "mean      0.215750     3.833750     4.295250     0.755750     0.037250   \n",
      "std       0.576442     1.349469     1.986596     0.953582     0.348415   \n",
      "min       0.000000     0.000000     1.000000     0.000000     0.000000   \n",
      "25%       0.000000     3.000000     3.000000     0.000000     0.000000   \n",
      "50%       0.000000     4.000000     4.000000     0.000000     0.000000   \n",
      "75%       0.000000     4.000000     6.000000     2.000000     0.000000   \n",
      "max       6.000000     9.000000     8.000000     3.000000     6.000000   \n",
      "\n",
      "                45           46           47           48           49  \\\n",
      "count  4000.000000  4000.000000  4000.000000  4000.000000  4000.000000   \n",
      "mean      0.076750     2.936000     0.064500     0.164250     0.008000   \n",
      "std       0.519063     2.923532     0.613134     0.875765     0.226823   \n",
      "min       0.000000     0.000000     0.000000     0.000000     0.000000   \n",
      "25%       0.000000     0.000000     0.000000     0.000000     0.000000   \n",
      "50%       0.000000     5.000000     0.000000     0.000000     0.000000   \n",
      "75%       0.000000     6.000000     0.000000     0.000000     0.000000   \n",
      "max       4.000000     9.000000     7.000000     6.000000     7.000000   \n",
      "\n",
      "                50           51           52           53           54  \\\n",
      "count  4000.000000  4000.000000  4000.000000  4000.000000  4000.000000   \n",
      "mean      0.017000     0.095000     0.009250     0.215000     0.213250   \n",
      "std       0.182262     0.606273     0.194098     0.807736     0.928434   \n",
      "min       0.000000     0.000000     0.000000     0.000000     0.000000   \n",
      "25%       0.000000     0.000000     0.000000     0.000000     0.000000   \n",
      "50%       0.000000     0.000000     0.000000     0.000000     0.000000   \n",
      "75%       0.000000     0.000000     0.000000     0.000000     0.000000   \n",
      "max       3.000000     7.000000     6.000000     6.000000     7.000000   \n",
      "\n",
      "                55           56           57           58           59  \\\n",
      "count  4000.000000  4000.000000  4000.000000  4000.000000  4000.000000   \n",
      "mean      0.008250     0.023750     0.023000     1.881000     0.002750   \n",
      "std       0.153909     0.241248     0.375508     1.883939     0.072414   \n",
      "min       0.000000     0.000000     0.000000     0.000000     0.000000   \n",
      "25%       0.000000     0.000000     0.000000     0.000000     0.000000   \n",
      "50%       0.000000     0.000000     0.000000     2.000000     0.000000   \n",
      "75%       0.000000     0.000000     0.000000     4.000000     0.000000   \n",
      "max       5.000000     3.000000     7.000000     8.000000     2.000000   \n",
      "\n",
      "                60           61           62           63           64  \\\n",
      "count  4000.000000  4000.000000  4000.000000  4000.000000  4000.000000   \n",
      "mean      0.010000     0.025500     0.018250     0.042250     0.395750   \n",
      "std       0.194704     0.157658     0.221199     0.378815     0.491113   \n",
      "min       0.000000     0.000000     0.000000     0.000000     0.000000   \n",
      "25%       0.000000     0.000000     0.000000     0.000000     0.000000   \n",
      "50%       0.000000     0.000000     0.000000     0.000000     0.000000   \n",
      "75%       0.000000     0.000000     0.000000     0.000000     1.000000   \n",
      "max       5.000000     1.000000     6.000000     5.000000     2.000000   \n",
      "\n",
      "                65           66          67           68           69  \\\n",
      "count  4000.000000  4000.000000  4000.00000  4000.000000  4000.000000   \n",
      "mean      0.013000     0.022250     0.55000     0.012000     0.039000   \n",
      "std       0.113288     0.147514     0.61408     0.129847     0.215617   \n",
      "min       0.000000     0.000000     0.00000     0.000000     0.000000   \n",
      "25%       0.000000     0.000000     0.00000     0.000000     0.000000   \n",
      "50%       0.000000     0.000000     1.00000     0.000000     0.000000   \n",
      "75%       0.000000     0.000000     1.00000     0.000000     0.000000   \n",
      "max       1.000000     1.000000    12.00000     5.000000     3.000000   \n",
      "\n",
      "                70           71           72           73           74  \\\n",
      "count  4000.000000  4000.000000  4000.000000  4000.000000  4000.000000   \n",
      "mean      0.002250     0.009750     0.035500     0.003750     0.072000   \n",
      "std       0.075805     0.100784     0.262215     0.085075     0.270803   \n",
      "min       0.000000     0.000000     0.000000     0.000000     0.000000   \n",
      "25%       0.000000     0.000000     0.000000     0.000000     0.000000   \n",
      "50%       0.000000     0.000000     0.000000     0.000000     0.000000   \n",
      "75%       0.000000     0.000000     0.000000     0.000000     0.000000   \n",
      "max       4.000000     2.000000     6.000000     4.000000     3.000000   \n",
      "\n",
      "                75           76           77          78           79  \\\n",
      "count  4000.000000  4000.000000  4000.000000  4000.00000  4000.000000   \n",
      "mean      0.084500     0.003500     0.010000     0.00375     0.579750   \n",
      "std       0.394206     0.059065     0.099511     0.06113     0.560106   \n",
      "min       0.000000     0.000000     0.000000     0.00000     0.000000   \n",
      "25%       0.000000     0.000000     0.000000     0.00000     0.000000   \n",
      "50%       0.000000     0.000000     0.000000     0.00000     1.000000   \n",
      "75%       0.000000     0.000000     0.000000     0.00000     1.000000   \n",
      "max       5.000000     1.000000     1.000000     1.00000     6.000000   \n",
      "\n",
      "                80           81           82           83           84  \n",
      "count  4000.000000  4000.000000  4000.000000  4000.000000  4000.000000  \n",
      "mean      0.001500     0.003750     0.031000     0.009250     0.013250  \n",
      "std       0.038706     0.072369     0.206276     0.095743     0.114358  \n",
      "min       0.000000     0.000000     0.000000     0.000000     0.000000  \n",
      "25%       0.000000     0.000000     0.000000     0.000000     0.000000  \n",
      "50%       0.000000     0.000000     0.000000     0.000000     0.000000  \n",
      "75%       0.000000     0.000000     0.000000     0.000000     0.000000  \n",
      "max       1.000000     2.000000     4.000000     1.000000     1.000000  \n"
     ]
    }
   ],
   "source": [
    "print(testData.info())\n",
    "print(testData.describe())"
   ]
  },
  {
   "cell_type": "markdown",
   "metadata": {
    "_uuid": "768de792611ad774d5d0a4e51e6083767a78f1b4"
   },
   "source": [
    "## Total Entries"
   ]
  },
  {
   "cell_type": "code",
   "execution_count": 28,
   "metadata": {
    "_uuid": "f5c6c781c5ce9e1a6741e643496403e629af564f"
   },
   "outputs": [
    {
     "name": "stdout",
     "output_type": "stream",
     "text": [
      "Total entry (test + trian) = 9822\n"
     ]
    }
   ],
   "source": [
    "print('Total entry (test + trian) = {0}'.format(str(len(trainData) + len(testData))))"
   ]
  },
  {
   "cell_type": "markdown",
   "metadata": {
    "_uuid": "fc5022cfb1884adbdaa94460b2f040021a2dcfde"
   },
   "source": [
    "## Missing Value Checking"
   ]
  },
  {
   "cell_type": "markdown",
   "metadata": {
    "_uuid": "2e4421ea214174b882cdc8946cde5c31f7ae019e"
   },
   "source": [
    "### Train data"
   ]
  },
  {
   "cell_type": "code",
   "execution_count": 29,
   "metadata": {
    "_uuid": "fc15c5563267b6fdd2436bcd224357e5b2dede05"
   },
   "outputs": [
    {
     "name": "stdout",
     "output_type": "stream",
     "text": [
      "      0      1      2      3      4      5      6      7      8      9   \\\n",
      "0  False  False  False  False  False  False  False  False  False  False   \n",
      "1  False  False  False  False  False  False  False  False  False  False   \n",
      "2  False  False  False  False  False  False  False  False  False  False   \n",
      "3  False  False  False  False  False  False  False  False  False  False   \n",
      "4  False  False  False  False  False  False  False  False  False  False   \n",
      "\n",
      "      10     11     12     13     14     15     16     17     18     19  \\\n",
      "0  False  False  False  False  False  False  False  False  False  False   \n",
      "1  False  False  False  False  False  False  False  False  False  False   \n",
      "2  False  False  False  False  False  False  False  False  False  False   \n",
      "3  False  False  False  False  False  False  False  False  False  False   \n",
      "4  False  False  False  False  False  False  False  False  False  False   \n",
      "\n",
      "      20     21     22     23     24     25     26     27     28     29  \\\n",
      "0  False  False  False  False  False  False  False  False  False  False   \n",
      "1  False  False  False  False  False  False  False  False  False  False   \n",
      "2  False  False  False  False  False  False  False  False  False  False   \n",
      "3  False  False  False  False  False  False  False  False  False  False   \n",
      "4  False  False  False  False  False  False  False  False  False  False   \n",
      "\n",
      "      30     31     32     33     34     35     36     37     38     39  \\\n",
      "0  False  False  False  False  False  False  False  False  False  False   \n",
      "1  False  False  False  False  False  False  False  False  False  False   \n",
      "2  False  False  False  False  False  False  False  False  False  False   \n",
      "3  False  False  False  False  False  False  False  False  False  False   \n",
      "4  False  False  False  False  False  False  False  False  False  False   \n",
      "\n",
      "      40     41     42     43     44     45     46     47     48     49  \\\n",
      "0  False  False  False  False  False  False  False  False  False  False   \n",
      "1  False  False  False  False  False  False  False  False  False  False   \n",
      "2  False  False  False  False  False  False  False  False  False  False   \n",
      "3  False  False  False  False  False  False  False  False  False  False   \n",
      "4  False  False  False  False  False  False  False  False  False  False   \n",
      "\n",
      "      50     51     52     53     54     55     56     57     58     59  \\\n",
      "0  False  False  False  False  False  False  False  False  False  False   \n",
      "1  False  False  False  False  False  False  False  False  False  False   \n",
      "2  False  False  False  False  False  False  False  False  False  False   \n",
      "3  False  False  False  False  False  False  False  False  False  False   \n",
      "4  False  False  False  False  False  False  False  False  False  False   \n",
      "\n",
      "      60     61     62     63     64     65     66     67     68     69  \\\n",
      "0  False  False  False  False  False  False  False  False  False  False   \n",
      "1  False  False  False  False  False  False  False  False  False  False   \n",
      "2  False  False  False  False  False  False  False  False  False  False   \n",
      "3  False  False  False  False  False  False  False  False  False  False   \n",
      "4  False  False  False  False  False  False  False  False  False  False   \n",
      "\n",
      "      70     71     72     73     74     75     76     77     78     79  \\\n",
      "0  False  False  False  False  False  False  False  False  False  False   \n",
      "1  False  False  False  False  False  False  False  False  False  False   \n",
      "2  False  False  False  False  False  False  False  False  False  False   \n",
      "3  False  False  False  False  False  False  False  False  False  False   \n",
      "4  False  False  False  False  False  False  False  False  False  False   \n",
      "\n",
      "      80     81     82     83     84     85  \n",
      "0  False  False  False  False  False  False  \n",
      "1  False  False  False  False  False  False  \n",
      "2  False  False  False  False  False  False  \n",
      "3  False  False  False  False  False  False  \n",
      "4  False  False  False  False  False  False  \n"
     ]
    }
   ],
   "source": [
    "# exploring isnull method of pandas\n",
    "print(trainData.isnull().head())"
   ]
  },
  {
   "cell_type": "code",
   "execution_count": 30,
   "metadata": {
    "_uuid": "fe9d543eb20843c68605dbbb981dd509507fd9a3"
   },
   "outputs": [
    {
     "data": {
      "text/plain": [
       "<matplotlib.axes._subplots.AxesSubplot at 0x2a5a2068860>"
      ]
     },
     "execution_count": 30,
     "metadata": {},
     "output_type": "execute_result"
    },
    {
     "data": {
      "image/png": "[encoded data removed]",
      "text/plain": [
       "<Figure size 432x288 with 1 Axes>"
      ]
     },
     "metadata": {},
     "output_type": "display_data"
    }
   ],
   "source": [
    "sns.heatmap(trainData.isnull(),yticklabels=False,cbar=False,cmap='viridis')"
   ]
  },
  {
   "cell_type": "markdown",
   "metadata": {
    "_uuid": "c1480e04db8157cff71404496461e673c60ffa54"
   },
   "source": [
    "Test data"
   ]
  },
  {
   "cell_type": "code",
   "execution_count": 31,
   "metadata": {
    "_uuid": "e7325cba3bffe4a8a6a3bf730ffba438d7606b1c"
   },
   "outputs": [
    {
     "data": {
      "text/plain": [
       "<matplotlib.axes._subplots.AxesSubplot at 0x2a5a1f12b38>"
      ]
     },
     "execution_count": 31,
     "metadata": {},
     "output_type": "execute_result"
    },
    {
     "data": {
      "image/png": "[encoded data removed]",
      "text/plain": [
       "<Figure size 432x288 with 1 Axes>"
      ]
     },
     "metadata": {},
     "output_type": "display_data"
    }
   ],
   "source": [
    "sns.heatmap(testData.isnull(),yticklabels=False,cbar=False,cmap='viridis')"
   ]
  },
  {
   "cell_type": "code",
   "execution_count": 32,
   "metadata": {
    "_uuid": "1eb0e25cb84f3f0908b5fdf2f3ab3c93968554e3"
   },
   "outputs": [
    {
     "name": "stdout",
     "output_type": "stream",
     "text": [
      "(5822, 85)\n",
      "(5822,)\n"
     ]
    },
    {
     "data": {
      "text/plain": [
       "LogisticRegression(C=1.0, class_weight=None, dual=False, fit_intercept=True,\n",
       "          intercept_scaling=1, max_iter=100, multi_class='ovr', n_jobs=1,\n",
       "          penalty='l2', random_state=None, solver='liblinear', tol=0.0001,\n",
       "          verbose=0, warm_start=False)"
      ]
     },
     "execution_count": 32,
     "metadata": {},
     "output_type": "execute_result"
    }
   ],
   "source": [
    "y = trainData[85]\n",
    "x = trainData.drop(columns=[85],axis=1)\n",
    "print (x.shape)\n",
    "print (y.shape)\n",
    "logmodel = LogisticRegression()\n",
    "logmodel.fit(x,y)\n"
   ]
  },
  {
   "cell_type": "code",
   "execution_count": 33,
   "metadata": {},
   "outputs": [
    {
     "data": {
      "text/plain": [
       "Int64Index([ 0,  1,  2,  3,  4,  5,  6,  7,  8,  9, 10, 11, 12, 13, 14, 15, 16,\n",
       "            17, 18, 19, 20, 21, 22, 23, 24, 25, 26, 27, 28, 29, 30, 31, 32, 33,\n",
       "            34, 35, 36, 37, 38, 39, 40, 41, 42, 43, 44, 45, 46, 47, 48, 49, 50,\n",
       "            51, 52, 53, 54, 55, 56, 57, 58, 59, 60, 61, 62, 63, 64, 65, 66, 67,\n",
       "            68, 69, 70, 71, 72, 73, 74, 75, 76, 77, 78, 79, 80, 81, 82, 83, 84,\n",
       "            85],\n",
       "           dtype='int64')"
      ]
     },
     "execution_count": 33,
     "metadata": {},
     "output_type": "execute_result"
    }
   ],
   "source": [
    "trainData.columns"
   ]
  },
  {
   "cell_type": "markdown",
   "metadata": {
    "_uuid": "5f91a28597259a9e92b21572ea9e9064c2de26c8"
   },
   "source": [
    "# Train"
   ]
  },
  {
   "cell_type": "code",
   "execution_count": 34,
   "metadata": {},
   "outputs": [],
   "source": [
    "predictions = logmodel.predict(testData)"
   ]
  },
  {
   "cell_type": "markdown",
   "metadata": {
    "_uuid": "c53745bd2d925cb4fc7e41c374fa197d7677fb93"
   },
   "source": [
    "# Evaluation"
   ]
  },
  {
   "cell_type": "code",
   "execution_count": 35,
   "metadata": {
    "_uuid": "a660eefe0e14ae5d20c67af7151a1600cf091956",
    "scrolled": true
   },
   "outputs": [
    {
     "name": "stdout",
     "output_type": "stream",
     "text": [
      "<class 'pandas.core.frame.DataFrame'>\n",
      "RangeIndex: 4000 entries, 0 to 3999\n",
      "Data columns (total 1 columns):\n",
      "0    4000 non-null int64\n",
      "dtypes: int64(1)\n",
      "memory usage: 31.3 KB\n",
      "<class 'pandas.core.frame.DataFrame'>\n",
      "RangeIndex: 4000 entries, 0 to 3999\n",
      "Data columns (total 85 columns):\n",
      "0     4000 non-null int64\n",
      "1     4000 non-null int64\n",
      "2     4000 non-null int64\n",
      "3     4000 non-null int64\n",
      "4     4000 non-null int64\n",
      "5     4000 non-null int64\n",
      "6     4000 non-null int64\n",
      "7     4000 non-null int64\n",
      "8     4000 non-null int64\n",
      "9     4000 non-null int64\n",
      "10    4000 non-null int64\n",
      "11    4000 non-null int64\n",
      "12    4000 non-null int64\n",
      "13    4000 non-null int64\n",
      "14    4000 non-null int64\n",
      "15    4000 non-null int64\n",
      "16    4000 non-null int64\n",
      "17    4000 non-null int64\n",
      "18    4000 non-null int64\n",
      "19    4000 non-null int64\n",
      "20    4000 non-null int64\n",
      "21    4000 non-null int64\n",
      "22    4000 non-null int64\n",
      "23    4000 non-null int64\n",
      "24    4000 non-null int64\n",
      "25    4000 non-null int64\n",
      "26    4000 non-null int64\n",
      "27    4000 non-null int64\n",
      "28    4000 non-null int64\n",
      "29    4000 non-null int64\n",
      "30    4000 non-null int64\n",
      "31    4000 non-null int64\n",
      "32    4000 non-null int64\n",
      "33    4000 non-null int64\n",
      "34    4000 non-null int64\n",
      "35    4000 non-null int64\n",
      "36    4000 non-null int64\n",
      "37    4000 non-null int64\n",
      "38    4000 non-null int64\n",
      "39    4000 non-null int64\n",
      "40    4000 non-null int64\n",
      "41    4000 non-null int64\n",
      "42    4000 non-null int64\n",
      "43    4000 non-null int64\n",
      "44    4000 non-null int64\n",
      "45    4000 non-null int64\n",
      "46    4000 non-null int64\n",
      "47    4000 non-null int64\n",
      "48    4000 non-null int64\n",
      "49    4000 non-null int64\n",
      "50    4000 non-null int64\n",
      "51    4000 non-null int64\n",
      "52    4000 non-null int64\n",
      "53    4000 non-null int64\n",
      "54    4000 non-null int64\n",
      "55    4000 non-null int64\n",
      "56    4000 non-null int64\n",
      "57    4000 non-null int64\n",
      "58    4000 non-null int64\n",
      "59    4000 non-null int64\n",
      "60    4000 non-null int64\n",
      "61    4000 non-null int64\n",
      "62    4000 non-null int64\n",
      "63    4000 non-null int64\n",
      "64    4000 non-null int64\n",
      "65    4000 non-null int64\n",
      "66    4000 non-null int64\n",
      "67    4000 non-null int64\n",
      "68    4000 non-null int64\n",
      "69    4000 non-null int64\n",
      "70    4000 non-null int64\n",
      "71    4000 non-null int64\n",
      "72    4000 non-null int64\n",
      "73    4000 non-null int64\n",
      "74    4000 non-null int64\n",
      "75    4000 non-null int64\n",
      "76    4000 non-null int64\n",
      "77    4000 non-null int64\n",
      "78    4000 non-null int64\n",
      "79    4000 non-null int64\n",
      "80    4000 non-null int64\n",
      "81    4000 non-null int64\n",
      "82    4000 non-null int64\n",
      "83    4000 non-null int64\n",
      "84    4000 non-null int64\n",
      "dtypes: int64(85)\n",
      "memory usage: 2.6 MB\n"
     ]
    }
   ],
   "source": [
    "evaluationData.info()\n",
    "testData.info()"
   ]
  },
  {
   "cell_type": "code",
   "execution_count": 36,
   "metadata": {
    "_uuid": "22e1e84066a7434f5fb39bb22cb8d3e5cb028ba7"
   },
   "outputs": [
    {
     "name": "stdout",
     "output_type": "stream",
     "text": [
      "             precision    recall  f1-score   support\n",
      "\n",
      "          0       0.94      1.00      0.97      3762\n",
      "          1       0.38      0.01      0.02       238\n",
      "\n",
      "avg / total       0.91      0.94      0.91      4000\n",
      "\n",
      "accuracy - 0.94\n"
     ]
    }
   ],
   "source": [
    "print(classification_report(evaluationData ,predictions))\n",
    "print('accuracy - {0}'.format(logmodel.score(testData,evaluationData )))"
   ]
  },
  {
   "cell_type": "code",
   "execution_count": 37,
   "metadata": {
    "_uuid": "484cd6d4161e5ef8ad4c1d2fbf69e96754e6ed3d"
   },
   "outputs": [
    {
     "data": {
      "text/plain": [
       "array([[3757,    5],\n",
       "       [ 235,    3]], dtype=int64)"
      ]
     },
     "execution_count": 37,
     "metadata": {},
     "output_type": "execute_result"
    }
   ],
   "source": [
    "confusion_matrix(evaluationData, predictions)"
   ]
  },
  {
   "cell_type": "code",
   "execution_count": null,
   "metadata": {},
   "outputs": [],
   "source": []
  }
 ],
 "metadata": {
  "kernelspec": {
   "display_name": "Python 3",
   "language": "python",
   "name": "python3"
  },
  "language_info": {
   "codemirror_mode": {
    "name": "ipython",
    "version": 3
   },
   "file_extension": ".py",
   "mimetype": "text/x-python",
   "name": "python",
   "nbconvert_exporter": "python",
   "pygments_lexer": "ipython3",
   "version": "3.6.5"
  }
 },
 "nbformat": 4,
 "nbformat_minor": 1
}
